{
 "cells": [
  {
   "cell_type": "code",
   "execution_count": 118,
   "id": "b29a1eb5-4927-4f8e-9768-fc9e308c8712",
   "metadata": {},
   "outputs": [
    {
     "name": "stdout",
     "output_type": "stream",
     "text": [
      "Requirement already satisfied: feedparser in /opt/anaconda3/lib/python3.12/site-packages (6.0.11)\n",
      "Requirement already satisfied: sgmllib3k in /opt/anaconda3/lib/python3.12/site-packages (from feedparser) (1.0.0)\n",
      "Note: you may need to restart the kernel to use updated packages.\n"
     ]
    }
   ],
   "source": [
    "pip install feedparser"
   ]
  },
  {
   "cell_type": "code",
   "execution_count": 119,
   "id": "1de69993-3ab6-46e4-85cb-ef6be6ced6e5",
   "metadata": {},
   "outputs": [],
   "source": [
    "#import feedparser\n",
    "#import pandas as pd\n",
    "\n",
    "# RSS feed URL\n",
    "#rss_url = \"https://finance.yahoo.com/rss/topstories\"\n",
    "\n",
    "# Parse feed\n",
    "#feed = feedparser.parse(rss_url)\n",
    "\n",
    "# Collect entries\n",
    "#headlines = []\n",
    "#for entry in feed.entries:\n",
    "   # headlines.append({\n",
    "   #     'title': entry.title,\n",
    "   #     'link': entry.link,\n",
    "   #     'published': entry.published,\n",
    "   #     'source': \"Yahoo Finance\"\n",
    "  #  })\n",
    "\n",
    "# Convert to DataFrame\n",
    "#df = pd.DataFrame(headlines)\n",
    "\n",
    "# Preview\n",
    "#print(df.head())"
   ]
  },
  {
   "cell_type": "code",
   "execution_count": 143,
   "id": "559b680c-1daa-412a-a7b7-06acd9000f7b",
   "metadata": {},
   "outputs": [
    {
     "name": "stderr",
     "output_type": "stream",
     "text": [
      "/var/folders/5p/_q2tc1jj6tg91kd4r1rpgl480000gn/T/ipykernel_43176/612929232.py:27: FutureWarning: In a future version of pandas, parsing datetimes with mixed time zones will raise an error unless `utc=True`. Please specify `utc=True` to opt in to the new behaviour and silence this warning. To create a `Series` with mixed offsets and `object` dtype, please use `apply` and `datetime.datetime.strptime`\n",
      "  df[\"published\"] = pd.to_datetime(df[\"published\"], format=\"mixed\", errors=\"coerce\")\n"
     ]
    }
   ],
   "source": [
    "import feedparser\n",
    "import pandas as pd\n",
    "\n",
    "rss_feeds = [\n",
    "    \"https://finance.yahoo.com/rss/topstories\",\n",
    "    \"https://feeds.marketwatch.com/marketwatch/topstories\",\n",
    "    \"http://feeds.reuters.com/reuters/businessNews\",\n",
    "    \"https://www.investing.com/rss/news_25.rss\"  # Stock market news\n",
    "]\n",
    "\n",
    "import feedparser\n",
    "import pandas as pd\n",
    "\n",
    "headlines = []\n",
    "\n",
    "for url in rss_feeds:\n",
    "    feed = feedparser.parse(url)\n",
    "    for entry in feed.entries:\n",
    "        headlines.append({\n",
    "            'title': entry.title,\n",
    "            'link': entry.link,\n",
    "            'published': entry.published,\n",
    "            'source': url.split(\"//\")[1].split(\"/\")[0]\n",
    "        })\n",
    "\n",
    "df = pd.DataFrame(headlines)\n",
    "df[\"published\"] = pd.to_datetime(df[\"published\"], format=\"mixed\", errors=\"coerce\")\n",
    "\n"
   ]
  },
  {
   "cell_type": "code",
   "execution_count": 145,
   "id": "bc93701e-b8ec-42f5-968f-ffbd2a15ef26",
   "metadata": {},
   "outputs": [],
   "source": [
    "df[\"published\"] = pd.to_datetime(df[\"published\"], format=\"mixed\", errors=\"coerce\")\n"
   ]
  },
  {
   "cell_type": "code",
   "execution_count": 147,
   "id": "82da812f-bb3c-4aa8-a253-dd8fbde74c3f",
   "metadata": {},
   "outputs": [],
   "source": [
    "df = df.dropna(subset=[\"published\"])\n"
   ]
  },
  {
   "cell_type": "code",
   "execution_count": 149,
   "id": "3fa0fdc3-a2b5-4e02-abe1-d6bf93adf707",
   "metadata": {},
   "outputs": [
    {
     "name": "stdout",
     "output_type": "stream",
     "text": [
      "Requirement already satisfied: nltk in /opt/anaconda3/lib/python3.12/site-packages (3.8.1)\n",
      "Requirement already satisfied: spacy in /opt/anaconda3/lib/python3.12/site-packages (3.8.4)\n",
      "Requirement already satisfied: click in /opt/anaconda3/lib/python3.12/site-packages (from nltk) (8.1.7)\n",
      "Requirement already satisfied: joblib in /opt/anaconda3/lib/python3.12/site-packages (from nltk) (1.4.2)\n",
      "Requirement already satisfied: regex>=2021.8.3 in /opt/anaconda3/lib/python3.12/site-packages (from nltk) (2023.10.3)\n",
      "Requirement already satisfied: tqdm in /opt/anaconda3/lib/python3.12/site-packages (from nltk) (4.66.4)\n",
      "Requirement already satisfied: spacy-legacy<3.1.0,>=3.0.11 in /opt/anaconda3/lib/python3.12/site-packages (from spacy) (3.0.12)\n",
      "Requirement already satisfied: spacy-loggers<2.0.0,>=1.0.0 in /opt/anaconda3/lib/python3.12/site-packages (from spacy) (1.0.5)\n",
      "Requirement already satisfied: murmurhash<1.1.0,>=0.28.0 in /opt/anaconda3/lib/python3.12/site-packages (from spacy) (1.0.12)\n",
      "Requirement already satisfied: cymem<2.1.0,>=2.0.2 in /opt/anaconda3/lib/python3.12/site-packages (from spacy) (2.0.11)\n",
      "Requirement already satisfied: preshed<3.1.0,>=3.0.2 in /opt/anaconda3/lib/python3.12/site-packages (from spacy) (3.0.9)\n",
      "Requirement already satisfied: thinc<8.4.0,>=8.3.4 in /opt/anaconda3/lib/python3.12/site-packages (from spacy) (8.3.4)\n",
      "Requirement already satisfied: wasabi<1.2.0,>=0.9.1 in /opt/anaconda3/lib/python3.12/site-packages (from spacy) (1.1.3)\n",
      "Requirement already satisfied: srsly<3.0.0,>=2.4.3 in /opt/anaconda3/lib/python3.12/site-packages (from spacy) (2.5.1)\n",
      "Requirement already satisfied: catalogue<2.1.0,>=2.0.6 in /opt/anaconda3/lib/python3.12/site-packages (from spacy) (2.0.10)\n",
      "Requirement already satisfied: weasel<0.5.0,>=0.1.0 in /opt/anaconda3/lib/python3.12/site-packages (from spacy) (0.4.1)\n",
      "Requirement already satisfied: typer<1.0.0,>=0.3.0 in /opt/anaconda3/lib/python3.12/site-packages (from spacy) (0.15.2)\n",
      "Requirement already satisfied: numpy>=1.19.0 in /opt/anaconda3/lib/python3.12/site-packages (from spacy) (1.26.4)\n",
      "Requirement already satisfied: requests<3.0.0,>=2.13.0 in /opt/anaconda3/lib/python3.12/site-packages (from spacy) (2.32.2)\n",
      "Requirement already satisfied: pydantic!=1.8,!=1.8.1,<3.0.0,>=1.7.4 in /opt/anaconda3/lib/python3.12/site-packages (from spacy) (1.10.21)\n",
      "Requirement already satisfied: jinja2 in /opt/anaconda3/lib/python3.12/site-packages (from spacy) (3.1.4)\n",
      "Requirement already satisfied: setuptools in /opt/anaconda3/lib/python3.12/site-packages (from spacy) (69.5.1)\n",
      "Requirement already satisfied: packaging>=20.0 in /opt/anaconda3/lib/python3.12/site-packages (from spacy) (23.2)\n",
      "Requirement already satisfied: langcodes<4.0.0,>=3.2.0 in /opt/anaconda3/lib/python3.12/site-packages (from spacy) (3.5.0)\n",
      "Requirement already satisfied: language-data>=1.2 in /opt/anaconda3/lib/python3.12/site-packages (from langcodes<4.0.0,>=3.2.0->spacy) (1.3.0)\n",
      "Requirement already satisfied: typing-extensions>=4.2.0 in /opt/anaconda3/lib/python3.12/site-packages (from pydantic!=1.8,!=1.8.1,<3.0.0,>=1.7.4->spacy) (4.11.0)\n",
      "Requirement already satisfied: charset-normalizer<4,>=2 in /opt/anaconda3/lib/python3.12/site-packages (from requests<3.0.0,>=2.13.0->spacy) (2.0.4)\n",
      "Requirement already satisfied: idna<4,>=2.5 in /opt/anaconda3/lib/python3.12/site-packages (from requests<3.0.0,>=2.13.0->spacy) (3.7)\n",
      "Requirement already satisfied: urllib3<3,>=1.21.1 in /opt/anaconda3/lib/python3.12/site-packages (from requests<3.0.0,>=2.13.0->spacy) (2.2.2)\n",
      "Requirement already satisfied: certifi>=2017.4.17 in /opt/anaconda3/lib/python3.12/site-packages (from requests<3.0.0,>=2.13.0->spacy) (2024.8.30)\n",
      "Requirement already satisfied: blis<1.3.0,>=1.2.0 in /opt/anaconda3/lib/python3.12/site-packages (from thinc<8.4.0,>=8.3.4->spacy) (1.2.0)\n",
      "Requirement already satisfied: confection<1.0.0,>=0.0.1 in /opt/anaconda3/lib/python3.12/site-packages (from thinc<8.4.0,>=8.3.4->spacy) (0.1.5)\n",
      "Requirement already satisfied: shellingham>=1.3.0 in /opt/anaconda3/lib/python3.12/site-packages (from typer<1.0.0,>=0.3.0->spacy) (1.5.4)\n",
      "Requirement already satisfied: rich>=10.11.0 in /opt/anaconda3/lib/python3.12/site-packages (from typer<1.0.0,>=0.3.0->spacy) (13.3.5)\n",
      "Requirement already satisfied: cloudpathlib<1.0.0,>=0.7.0 in /opt/anaconda3/lib/python3.12/site-packages (from weasel<0.5.0,>=0.1.0->spacy) (0.21.0)\n",
      "Requirement already satisfied: smart-open<8.0.0,>=5.2.1 in /opt/anaconda3/lib/python3.12/site-packages (from weasel<0.5.0,>=0.1.0->spacy) (5.2.1)\n",
      "Requirement already satisfied: MarkupSafe>=2.0 in /opt/anaconda3/lib/python3.12/site-packages (from jinja2->spacy) (2.1.3)\n",
      "Requirement already satisfied: marisa-trie>=1.1.0 in /opt/anaconda3/lib/python3.12/site-packages (from language-data>=1.2->langcodes<4.0.0,>=3.2.0->spacy) (1.2.1)\n",
      "Requirement already satisfied: markdown-it-py<3.0.0,>=2.2.0 in /opt/anaconda3/lib/python3.12/site-packages (from rich>=10.11.0->typer<1.0.0,>=0.3.0->spacy) (2.2.0)\n",
      "Requirement already satisfied: pygments<3.0.0,>=2.13.0 in /opt/anaconda3/lib/python3.12/site-packages (from rich>=10.11.0->typer<1.0.0,>=0.3.0->spacy) (2.15.1)\n",
      "Requirement already satisfied: mdurl~=0.1 in /opt/anaconda3/lib/python3.12/site-packages (from markdown-it-py<3.0.0,>=2.2.0->rich>=10.11.0->typer<1.0.0,>=0.3.0->spacy) (0.1.0)\n",
      "Note: you may need to restart the kernel to use updated packages.\n"
     ]
    }
   ],
   "source": [
    "pip install nltk spacy"
   ]
  },
  {
   "cell_type": "code",
   "execution_count": 150,
   "id": "15253031-41a1-486c-91c3-52c9fa91a826",
   "metadata": {},
   "outputs": [
    {
     "name": "stdout",
     "output_type": "stream",
     "text": [
      "Requirement already satisfied: pydantic<2.0 in /opt/anaconda3/lib/python3.12/site-packages (1.10.21)\n",
      "Requirement already satisfied: typing-extensions>=4.2.0 in /opt/anaconda3/lib/python3.12/site-packages (from pydantic<2.0) (4.11.0)\n",
      "Note: you may need to restart the kernel to use updated packages.\n"
     ]
    }
   ],
   "source": [
    "pip install \"pydantic<2.0\"\n"
   ]
  },
  {
   "cell_type": "code",
   "execution_count": 151,
   "id": "48655c52-80a1-407f-a40f-3198711dc6bf",
   "metadata": {},
   "outputs": [
    {
     "name": "stdout",
     "output_type": "stream",
     "text": [
      "<frozen runpy>:128: RuntimeWarning: 'nltk.downloader' found in sys.modules after import of package 'nltk', but prior to execution of 'nltk.downloader'; this may result in unpredictable behaviour\n",
      "[nltk_data] Downloading package stopwords to\n",
      "[nltk_data]     /Users/shacheesb/nltk_data...\n",
      "[nltk_data]   Package stopwords is already up-to-date!\n",
      "Collecting en-core-web-sm==3.8.0\n",
      "  Downloading https://github.com/explosion/spacy-models/releases/download/en_core_web_sm-3.8.0/en_core_web_sm-3.8.0-py3-none-any.whl (12.8 MB)\n",
      "\u001b[2K     \u001b[90m━━━━━━━━━━━━━━━━━━━━━━━━━━━━━━━━━━━━━━━━\u001b[0m \u001b[32m12.8/12.8 MB\u001b[0m \u001b[31m30.5 MB/s\u001b[0m eta \u001b[36m0:00:00\u001b[0m00:01\u001b[0m00:01\u001b[0m\n",
      "\u001b[?25h\u001b[38;5;2m✔ Download and installation successful\u001b[0m\n",
      "You can now load the package via spacy.load('en_core_web_sm')\n"
     ]
    }
   ],
   "source": [
    "!python -m nltk.downloader stopwords\n",
    "!python -m spacy download en_core_web_sm"
   ]
  },
  {
   "cell_type": "code",
   "execution_count": 153,
   "id": "f9edd6b0-21db-4a09-beec-f4371954f546",
   "metadata": {},
   "outputs": [],
   "source": [
    "import pandas as pd\n",
    "import re\n",
    "import nltk\n",
    "import spacy\n",
    "from nltk.corpus import stopwords"
   ]
  },
  {
   "cell_type": "code",
   "execution_count": 165,
   "id": "6d158c5c-9e17-48d8-93ed-d38f0746e352",
   "metadata": {},
   "outputs": [
    {
     "data": {
      "text/html": [
       "<div>\n",
       "<style scoped>\n",
       "    .dataframe tbody tr th:only-of-type {\n",
       "        vertical-align: middle;\n",
       "    }\n",
       "\n",
       "    .dataframe tbody tr th {\n",
       "        vertical-align: top;\n",
       "    }\n",
       "\n",
       "    .dataframe thead th {\n",
       "        text-align: right;\n",
       "    }\n",
       "</style>\n",
       "<table border=\"1\" class=\"dataframe\">\n",
       "  <thead>\n",
       "    <tr style=\"text-align: right;\">\n",
       "      <th></th>\n",
       "      <th>title</th>\n",
       "      <th>cleaned_title</th>\n",
       "    </tr>\n",
       "  </thead>\n",
       "  <tbody>\n",
       "    <tr>\n",
       "      <th>0</th>\n",
       "      <td>Hewlett Packard Enterprise Company (HPE): Jim ...</td>\n",
       "      <td>hewlett packard enterprise company hpe jim cra...</td>\n",
       "    </tr>\n",
       "    <tr>\n",
       "      <th>1</th>\n",
       "      <td>Macy's, Kohl's close department stores as they...</td>\n",
       "      <td>macys kohls close department store struggle re...</td>\n",
       "    </tr>\n",
       "    <tr>\n",
       "      <th>2</th>\n",
       "      <td>Intel's new CEO might have the last best chanc...</td>\n",
       "      <td>intel new ceo good chance turn company</td>\n",
       "    </tr>\n",
       "    <tr>\n",
       "      <th>3</th>\n",
       "      <td>Go Big on Defense. It’s What Has Worked for In...</td>\n",
       "      <td>big defense work investor month</td>\n",
       "    </tr>\n",
       "    <tr>\n",
       "      <th>4</th>\n",
       "      <td>Poste to become Telecom Italia's No.1 investor...</td>\n",
       "      <td>poste telecom italia investor buy   vivendi</td>\n",
       "    </tr>\n",
       "  </tbody>\n",
       "</table>\n",
       "</div>"
      ],
      "text/plain": [
       "                                               title  \\\n",
       "0  Hewlett Packard Enterprise Company (HPE): Jim ...   \n",
       "1  Macy's, Kohl's close department stores as they...   \n",
       "2  Intel's new CEO might have the last best chanc...   \n",
       "3  Go Big on Defense. It’s What Has Worked for In...   \n",
       "4  Poste to become Telecom Italia's No.1 investor...   \n",
       "\n",
       "                                       cleaned_title  \n",
       "0  hewlett packard enterprise company hpe jim cra...  \n",
       "1  macys kohls close department store struggle re...  \n",
       "2           intel new ceo good chance turn company    \n",
       "3                    big defense work investor month  \n",
       "4        poste telecom italia investor buy   vivendi  "
      ]
     },
     "execution_count": 165,
     "metadata": {},
     "output_type": "execute_result"
    }
   ],
   "source": [
    "rss_feeds = [\n",
    "    \"https://finance.yahoo.com/rss/topstories\",\n",
    "    \"https://feeds.marketwatch.com/marketwatch/topstories/\",\n",
    "    \"http://feeds.reuters.com/reuters/businessNews\",\n",
    "    \"https://www.cnbc.com/id/100003114/device/rss/rss.html\"\n",
    "]\n",
    "headlines = []\n",
    "\n",
    "for url in rss_feeds:\n",
    "    feed = feedparser.parse(url)\n",
    "    for entry in feed.entries:\n",
    "        headlines.append({\n",
    "            'title': entry.title,\n",
    "            'link': entry.link,\n",
    "            'published': entry.published,\n",
    "            'source': url.split(\"//\")[1].split(\"/\")[0]  # e.g. reuters.com, cnbc.com\n",
    "        })\n",
    "df = pd.DataFrame(headlines)\n",
    "df[\"published\"] = pd.to_datetime(df[\"published\"], format=\"mixed\", errors=\"coerce\")\n",
    "df = df.dropna(subset=[\"published\"])\n",
    "\n",
    "# Clean titles\n",
    "df[\"cleaned_title\"] = df[\"title\"].apply(preprocess_text)\n",
    "\n",
    "df[[\"title\",\"cleaned_title\"]].head()"
   ]
  },
  {
   "cell_type": "code",
   "execution_count": 167,
   "id": "2e79c8af-0110-4550-a46e-30e15fec4bc2",
   "metadata": {},
   "outputs": [
    {
     "name": "stderr",
     "output_type": "stream",
     "text": [
      "[nltk_data] Downloading package vader_lexicon to\n",
      "[nltk_data]     /Users/shacheesb/nltk_data...\n",
      "[nltk_data]   Package vader_lexicon is already up-to-date!\n"
     ]
    },
    {
     "data": {
      "text/html": [
       "<div>\n",
       "<style scoped>\n",
       "    .dataframe tbody tr th:only-of-type {\n",
       "        vertical-align: middle;\n",
       "    }\n",
       "\n",
       "    .dataframe tbody tr th {\n",
       "        vertical-align: top;\n",
       "    }\n",
       "\n",
       "    .dataframe thead th {\n",
       "        text-align: right;\n",
       "    }\n",
       "</style>\n",
       "<table border=\"1\" class=\"dataframe\">\n",
       "  <thead>\n",
       "    <tr style=\"text-align: right;\">\n",
       "      <th></th>\n",
       "      <th>title</th>\n",
       "      <th>sentiment</th>\n",
       "    </tr>\n",
       "  </thead>\n",
       "  <tbody>\n",
       "    <tr>\n",
       "      <th>0</th>\n",
       "      <td>Hewlett Packard Enterprise Company (HPE): Jim ...</td>\n",
       "      <td>-0.3400</td>\n",
       "    </tr>\n",
       "    <tr>\n",
       "      <th>1</th>\n",
       "      <td>Macy's, Kohl's close department stores as they...</td>\n",
       "      <td>-0.3182</td>\n",
       "    </tr>\n",
       "    <tr>\n",
       "      <th>2</th>\n",
       "      <td>Intel's new CEO might have the last best chanc...</td>\n",
       "      <td>0.7351</td>\n",
       "    </tr>\n",
       "    <tr>\n",
       "      <th>3</th>\n",
       "      <td>Go Big on Defense. It’s What Has Worked for In...</td>\n",
       "      <td>0.1280</td>\n",
       "    </tr>\n",
       "    <tr>\n",
       "      <th>4</th>\n",
       "      <td>Poste to become Telecom Italia's No.1 investor...</td>\n",
       "      <td>0.0000</td>\n",
       "    </tr>\n",
       "  </tbody>\n",
       "</table>\n",
       "</div>"
      ],
      "text/plain": [
       "                                               title  sentiment\n",
       "0  Hewlett Packard Enterprise Company (HPE): Jim ...    -0.3400\n",
       "1  Macy's, Kohl's close department stores as they...    -0.3182\n",
       "2  Intel's new CEO might have the last best chanc...     0.7351\n",
       "3  Go Big on Defense. It’s What Has Worked for In...     0.1280\n",
       "4  Poste to become Telecom Italia's No.1 investor...     0.0000"
      ]
     },
     "execution_count": 167,
     "metadata": {},
     "output_type": "execute_result"
    }
   ],
   "source": [
    "from nltk.sentiment.vader import SentimentIntensityAnalyzer\n",
    "nltk.download(\"vader_lexicon\")\n",
    "\n",
    "sid = SentimentIntensityAnalyzer()\n",
    "\n",
    "# Apply sentiment scoring\n",
    "df[\"sentiment\"] = df[\"title\"].apply(lambda x: sid.polarity_scores(x)[\"compound\"])\n",
    "\n",
    "# Preview results\n",
    "df[[\"title\", \"sentiment\"]].head()\n"
   ]
  },
  {
   "cell_type": "code",
   "execution_count": 169,
   "id": "4bd2e839-d7dd-4d03-9550-d2040a3df712",
   "metadata": {},
   "outputs": [
    {
     "data": {
      "text/html": [
       "<div>\n",
       "<style scoped>\n",
       "    .dataframe tbody tr th:only-of-type {\n",
       "        vertical-align: middle;\n",
       "    }\n",
       "\n",
       "    .dataframe tbody tr th {\n",
       "        vertical-align: top;\n",
       "    }\n",
       "\n",
       "    .dataframe thead th {\n",
       "        text-align: right;\n",
       "    }\n",
       "</style>\n",
       "<table border=\"1\" class=\"dataframe\">\n",
       "  <thead>\n",
       "    <tr style=\"text-align: right;\">\n",
       "      <th></th>\n",
       "      <th>title</th>\n",
       "      <th>sentiment</th>\n",
       "      <th>sentiment_label</th>\n",
       "    </tr>\n",
       "  </thead>\n",
       "  <tbody>\n",
       "    <tr>\n",
       "      <th>0</th>\n",
       "      <td>Hewlett Packard Enterprise Company (HPE): Jim ...</td>\n",
       "      <td>-0.3400</td>\n",
       "      <td>Negative</td>\n",
       "    </tr>\n",
       "    <tr>\n",
       "      <th>1</th>\n",
       "      <td>Macy's, Kohl's close department stores as they...</td>\n",
       "      <td>-0.3182</td>\n",
       "      <td>Negative</td>\n",
       "    </tr>\n",
       "    <tr>\n",
       "      <th>2</th>\n",
       "      <td>Intel's new CEO might have the last best chanc...</td>\n",
       "      <td>0.7351</td>\n",
       "      <td>Positive</td>\n",
       "    </tr>\n",
       "    <tr>\n",
       "      <th>3</th>\n",
       "      <td>Go Big on Defense. It’s What Has Worked for In...</td>\n",
       "      <td>0.1280</td>\n",
       "      <td>Positive</td>\n",
       "    </tr>\n",
       "    <tr>\n",
       "      <th>4</th>\n",
       "      <td>Poste to become Telecom Italia's No.1 investor...</td>\n",
       "      <td>0.0000</td>\n",
       "      <td>Neutral</td>\n",
       "    </tr>\n",
       "  </tbody>\n",
       "</table>\n",
       "</div>"
      ],
      "text/plain": [
       "                                               title  sentiment  \\\n",
       "0  Hewlett Packard Enterprise Company (HPE): Jim ...    -0.3400   \n",
       "1  Macy's, Kohl's close department stores as they...    -0.3182   \n",
       "2  Intel's new CEO might have the last best chanc...     0.7351   \n",
       "3  Go Big on Defense. It’s What Has Worked for In...     0.1280   \n",
       "4  Poste to become Telecom Italia's No.1 investor...     0.0000   \n",
       "\n",
       "  sentiment_label  \n",
       "0        Negative  \n",
       "1        Negative  \n",
       "2        Positive  \n",
       "3        Positive  \n",
       "4         Neutral  "
      ]
     },
     "execution_count": 169,
     "metadata": {},
     "output_type": "execute_result"
    }
   ],
   "source": [
    "def classify_sentiment(score):\n",
    "    if score >= 0.05:\n",
    "        return \"Positive\"\n",
    "    elif score <= -0.05:\n",
    "        return \"Negative\"\n",
    "    else:\n",
    "        return \"Neutral\"\n",
    "\n",
    "df[\"sentiment_label\"] = df[\"sentiment\"].apply(classify_sentiment)\n",
    "df[[\"title\", \"sentiment\", \"sentiment_label\"]].head()\n"
   ]
  },
  {
   "cell_type": "code",
   "execution_count": 171,
   "id": "5939c736-e492-433c-9e37-bafd3ba30874",
   "metadata": {},
   "outputs": [
    {
     "data": {
      "image/png": "[encoded data removed]",
      "text/plain": [
       "<Figure size 640x480 with 1 Axes>"
      ]
     },
     "metadata": {},
     "output_type": "display_data"
    }
   ],
   "source": [
    "import matplotlib.pyplot as plt\n",
    "\n",
    "df[\"sentiment_label\"].value_counts().plot(kind=\"bar\", color=[\"green\", \"gray\", \"red\"])\n",
    "plt.title(\"Headline Sentiment Distribution\")\n",
    "plt.xlabel(\"Sentiment\")\n",
    "plt.ylabel(\"Count\")\n",
    "plt.xticks(rotation=0)\n",
    "plt.grid(True)\n",
    "plt.show()\n"
   ]
  },
  {
   "cell_type": "code",
   "execution_count": 173,
   "id": "b33720e1-8217-475c-8442-55af63c837ca",
   "metadata": {},
   "outputs": [],
   "source": [
    "df.to_csv(\"sentiment_headlines.csv\", index=False)\n"
   ]
  },
  {
   "cell_type": "code",
   "execution_count": 175,
   "id": "c0e5ef45-e738-4ae2-850f-704322a87757",
   "metadata": {},
   "outputs": [
    {
     "name": "stdout",
     "output_type": "stream",
     "text": [
      "Requirement already satisfied: yfinance in /opt/anaconda3/lib/python3.12/site-packages (0.2.55)\n",
      "Requirement already satisfied: ta in /opt/anaconda3/lib/python3.12/site-packages (0.11.0)\n",
      "Requirement already satisfied: pandas>=1.3.0 in /opt/anaconda3/lib/python3.12/site-packages (from yfinance) (2.2.2)\n",
      "Requirement already satisfied: numpy>=1.16.5 in /opt/anaconda3/lib/python3.12/site-packages (from yfinance) (1.26.4)\n",
      "Requirement already satisfied: requests>=2.31 in /opt/anaconda3/lib/python3.12/site-packages (from yfinance) (2.32.2)\n",
      "Requirement already satisfied: multitasking>=0.0.7 in /opt/anaconda3/lib/python3.12/site-packages (from yfinance) (0.0.11)\n",
      "Requirement already satisfied: platformdirs>=2.0.0 in /opt/anaconda3/lib/python3.12/site-packages (from yfinance) (3.10.0)\n",
      "Requirement already satisfied: pytz>=2022.5 in /opt/anaconda3/lib/python3.12/site-packages (from yfinance) (2024.1)\n",
      "Requirement already satisfied: frozendict>=2.3.4 in /opt/anaconda3/lib/python3.12/site-packages (from yfinance) (2.4.2)\n",
      "Requirement already satisfied: peewee>=3.16.2 in /opt/anaconda3/lib/python3.12/site-packages (from yfinance) (3.17.9)\n",
      "Requirement already satisfied: beautifulsoup4>=4.11.1 in /opt/anaconda3/lib/python3.12/site-packages (from yfinance) (4.12.3)\n",
      "Requirement already satisfied: soupsieve>1.2 in /opt/anaconda3/lib/python3.12/site-packages (from beautifulsoup4>=4.11.1->yfinance) (2.5)\n",
      "Requirement already satisfied: python-dateutil>=2.8.2 in /opt/anaconda3/lib/python3.12/site-packages (from pandas>=1.3.0->yfinance) (2.9.0.post0)\n",
      "Requirement already satisfied: tzdata>=2022.7 in /opt/anaconda3/lib/python3.12/site-packages (from pandas>=1.3.0->yfinance) (2023.3)\n",
      "Requirement already satisfied: charset-normalizer<4,>=2 in /opt/anaconda3/lib/python3.12/site-packages (from requests>=2.31->yfinance) (2.0.4)\n",
      "Requirement already satisfied: idna<4,>=2.5 in /opt/anaconda3/lib/python3.12/site-packages (from requests>=2.31->yfinance) (3.7)\n",
      "Requirement already satisfied: urllib3<3,>=1.21.1 in /opt/anaconda3/lib/python3.12/site-packages (from requests>=2.31->yfinance) (2.2.2)\n",
      "Requirement already satisfied: certifi>=2017.4.17 in /opt/anaconda3/lib/python3.12/site-packages (from requests>=2.31->yfinance) (2024.8.30)\n",
      "Requirement already satisfied: six>=1.5 in /opt/anaconda3/lib/python3.12/site-packages (from python-dateutil>=2.8.2->pandas>=1.3.0->yfinance) (1.16.0)\n",
      "Note: you may need to restart the kernel to use updated packages.\n"
     ]
    }
   ],
   "source": [
    "pip install yfinance ta\n"
   ]
  },
  {
   "cell_type": "code",
   "execution_count": 179,
   "id": "ee5e8c37-aeb4-4945-bc8b-c6cfc36e98fa",
   "metadata": {},
   "outputs": [
    {
     "name": "stderr",
     "output_type": "stream",
     "text": [
      "[*********************100%***********************]  1 of 1 completed\n"
     ]
    }
   ],
   "source": [
    "import yfinance as yf\n",
    "\n",
    "# Define time window based on your headline dates\n",
    "start_date = df[\"published\"].min().strftime('%Y-%m-%d')\n",
    "end_date = df[\"published\"].max().strftime('%Y-%m-%d')\n",
    "\n",
    "# Download price data\n",
    "stock = yf.download(\"AAPL\", start=start_date, end=end_date, interval=\"1d\")\n",
    "stock.reset_index(inplace=True)\n",
    "stock = stock[[\"Date\", \"Open\", \"Close\", \"Volume\"]]\n",
    "stock[\"Date\"] = pd.to_datetime(stock[\"Date\"])\n",
    "\n"
   ]
  },
  {
   "cell_type": "code",
   "execution_count": 181,
   "id": "9595703a-c186-4c7f-90f4-1101defa9906",
   "metadata": {},
   "outputs": [],
   "source": [
    "df[\"published\"] = pd.to_datetime(df[\"published\"])\n",
    "df[\"date\"] = df[\"published\"].dt.date\n",
    "\n",
    "# Daily average sentiment\n",
    "daily_sentiment = df.groupby(\"date\")[\"sentiment\"].mean().reset_index()\n",
    "daily_sentiment.columns = [\"Date\", \"avg_sentiment\"]\n",
    "daily_sentiment[\"Date\"] = pd.to_datetime(daily_sentiment[\"Date\"])\n"
   ]
  },
  {
   "cell_type": "code",
   "execution_count": 183,
   "id": "5e7027ef-70a3-4966-89f1-87abcd18143b",
   "metadata": {},
   "outputs": [],
   "source": [
    "# Ensure 'Date' is a flat column, not part of a MultiIndex\n",
    "if isinstance(stock.columns, pd.MultiIndex):\n",
    "    stock.columns = stock.columns.get_level_values(0)  # flatten column names\n",
    "\n",
    "# Reset index (in case 'Date' is still the index)\n",
    "stock.reset_index(inplace=True)\n",
    "\n",
    "# Make sure both 'Date' columns are datetime\n",
    "stock[\"Date\"] = pd.to_datetime(stock[\"Date\"])\n",
    "daily_sentiment[\"Date\"] = pd.to_datetime(daily_sentiment[\"Date\"])\n",
    "\n",
    "# Now merge safely\n",
    "merged = pd.merge(stock, daily_sentiment, on=\"Date\", how=\"left\")\n"
   ]
  },
  {
   "cell_type": "code",
   "execution_count": 185,
   "id": "95fbc1cc-ade0-4066-b786-9ba03ddf9ead",
   "metadata": {},
   "outputs": [],
   "source": [
    "import numpy as np\n",
    "\n",
    "# Lagged returns\n",
    "merged[\"return\"] = merged[\"Close\"].pct_change()\n",
    "merged[\"return_lag1\"] = merged[\"return\"].shift(1)\n",
    "\n",
    "# Rolling volatility (5-day)\n",
    "merged[\"volatility_2d\"] = merged[\"return\"].rolling(2).std()\n",
    "\n",
    "# Rolling sentiment average\n",
    "merged[\"sentiment_2d_avg\"] = merged[\"avg_sentiment\"].rolling(2).mean()\n",
    "\n",
    "# Future return (target)\n",
    "merged[\"target_return\"] = merged[\"Close\"].shift(-1) / merged[\"Close\"] - 1\n",
    "merged[\"target\"] = (merged[\"target_return\"] > 0).astype(int)  # 1 = price up, 0 = down\n"
   ]
  },
  {
   "cell_type": "code",
   "execution_count": 207,
   "id": "6ee4958d-e547-4318-a9d8-7654f4f5d784",
   "metadata": {},
   "outputs": [],
   "source": [
    "# Save your final merged DataFrame to a CSV\n",
    "merged.to_csv(\"sentiment_strategy_data.csv\", index=False)\n"
   ]
  },
  {
   "cell_type": "code",
   "execution_count": 187,
   "id": "4d0d09bf-6f3e-4bd2-a4f4-4f5b2430d199",
   "metadata": {},
   "outputs": [],
   "source": [
    "features = [\n",
    "    \"avg_sentiment\", \"sentiment_2d_avg\", \"return_lag1\", \"volatility_2d\"\n",
    "]\n",
    "X = merged[features].dropna()\n",
    "y = merged[\"target\"].loc[X.index]\n"
   ]
  },
  {
   "cell_type": "code",
   "execution_count": 189,
   "id": "e7b4e99e-fdd5-4e9f-ac37-d1d2a8184e11",
   "metadata": {},
   "outputs": [],
   "source": [
    "split_index = int(len(X) * 0.8)\n",
    "\n",
    "X_train, X_test = X.iloc[:split_index], X.iloc[split_index:]\n",
    "y_train, y_test = y.iloc[:split_index], y.iloc[split_index:]\n"
   ]
  },
  {
   "cell_type": "code",
   "execution_count": 191,
   "id": "06124b08-f3d7-47a2-af3e-f973549375e8",
   "metadata": {},
   "outputs": [
    {
     "name": "stdout",
     "output_type": "stream",
     "text": [
      "avg_sentiment       1\n",
      "sentiment_2d_avg    3\n",
      "return_lag1         2\n",
      "volatility_2d       2\n",
      "dtype: int64\n",
      "Total rows before drop: 4\n"
     ]
    }
   ],
   "source": [
    "features = [\"avg_sentiment\", \"sentiment_2d_avg\", \"return_lag1\", \"volatility_2d\"]\n",
    "print(merged[features].isnull().sum())\n",
    "print(\"Total rows before drop:\", len(merged))\n"
   ]
  },
  {
   "cell_type": "code",
   "execution_count": 195,
   "id": "b336127b-7d57-4b89-9c21-11038be9fc71",
   "metadata": {},
   "outputs": [
    {
     "name": "stdout",
     "output_type": "stream",
     "text": [
      "Accuracy: 1.0\n",
      "              precision    recall  f1-score   support\n",
      "\n",
      "           0       1.00      1.00      1.00         1\n",
      "\n",
      "    accuracy                           1.00         1\n",
      "   macro avg       1.00      1.00      1.00         1\n",
      "weighted avg       1.00      1.00      1.00         1\n",
      "\n"
     ]
    }
   ],
   "source": [
    "from sklearn.ensemble import RandomForestClassifier\n",
    "from sklearn.metrics import accuracy_score, classification_report\n",
    "\n",
    "# Train model\n",
    "rf = RandomForestClassifier(n_estimators=100, random_state=42)\n",
    "rf.fit(X, y)\n",
    "\n",
    "# Predict on the same data (not for real use, just testing)\n",
    "y_pred = rf.predict(X)\n",
    "\n",
    "# Evaluation\n",
    "print(\"Accuracy:\", accuracy_score(y, y_pred))\n",
    "print(classification_report(y, y_pred))\n"
   ]
  },
  {
   "cell_type": "code",
   "execution_count": 197,
   "id": "f7592716-e3bd-4b2b-b6eb-0caa853a36c1",
   "metadata": {},
   "outputs": [],
   "source": [
    "merged[\"prediction\"] = rf.predict(merged[features])\n"
   ]
  },
  {
   "cell_type": "code",
   "execution_count": 199,
   "id": "f52ecfff-3b3f-492a-b8ec-3b60295ea39a",
   "metadata": {},
   "outputs": [],
   "source": [
    "# Strategy: go long if model predicts price will go up\n",
    "merged[\"strategy_return\"] = merged[\"prediction\"] * merged[\"target_return\"]\n",
    "\n",
    "# Cumulative return over time\n",
    "merged[\"cumulative_strategy\"] = (1 + merged[\"strategy_return\"]).cumprod()\n",
    "merged[\"cumulative_stock\"] = (1 + merged[\"target_return\"]).cumprod()\n"
   ]
  },
  {
   "cell_type": "code",
   "execution_count": 201,
   "id": "080fe158-0791-42c0-9dd2-a8bff25068fa",
   "metadata": {},
   "outputs": [
    {
     "data": {
      "image/png": "[encoded data removed]",
      "text/plain": [
       "<Figure size 1000x500 with 1 Axes>"
      ]
     },
     "metadata": {},
     "output_type": "display_data"
    }
   ],
   "source": [
    "import matplotlib.pyplot as plt\n",
    "\n",
    "plt.figure(figsize=(10, 5))\n",
    "plt.plot(merged[\"Date\"], merged[\"cumulative_stock\"], label=\"Buy & Hold\")\n",
    "plt.plot(merged[\"Date\"], merged[\"cumulative_strategy\"], label=\"Model Strategy\")\n",
    "plt.title(\"Cumulative Returns (Toy Example)\")\n",
    "plt.xlabel(\"Date\")\n",
    "plt.ylabel(\"Growth of $1\")\n",
    "plt.legend()\n",
    "plt.grid(True)\n",
    "plt.tight_layout()\n",
    "plt.show()\n"
   ]
  },
  {
   "cell_type": "code",
   "execution_count": 203,
   "id": "d5260cd9-da9f-4de6-97b6-7ea2e8961756",
   "metadata": {},
   "outputs": [
    {
     "name": "stdout",
     "output_type": "stream",
     "text": [
      "Sharpe Ratio (strategy): nan\n"
     ]
    },
    {
     "name": "stderr",
     "output_type": "stream",
     "text": [
      "/var/folders/5p/_q2tc1jj6tg91kd4r1rpgl480000gn/T/ipykernel_43176/3117733466.py:8: RuntimeWarning: invalid value encountered in scalar divide\n",
      "  sharpe_ratio = (strategy_returns.mean() / strategy_returns.std()) * (252**0.5)  # Annualized\n"
     ]
    }
   ],
   "source": [
    "# Calculate daily strategy returns (already done if you followed previous steps)\n",
    "# merged[\"strategy_return\"] = merged[\"prediction\"] * merged[\"target_return\"]\n",
    "\n",
    "# Drop NaNs just in case\n",
    "strategy_returns = merged[\"strategy_return\"].dropna()\n",
    "\n",
    "# Calculate Sharpe Ratio\n",
    "sharpe_ratio = (strategy_returns.mean() / strategy_returns.std()) * (252**0.5)  # Annualized\n",
    "print(\"Sharpe Ratio (strategy):\", round(sharpe_ratio, 3))\n"
   ]
  },
  {
   "cell_type": "code",
   "execution_count": 205,
   "id": "f77f6d26-7702-44dd-b7b1-d90ff61cfdc0",
   "metadata": {},
   "outputs": [
    {
     "name": "stdout",
     "output_type": "stream",
     "text": [
      "Sharpe Ratio (buy & hold): -7.422\n"
     ]
    }
   ],
   "source": [
    "buy_hold_returns = merged[\"target_return\"].dropna()\n",
    "sharpe_bh = (buy_hold_returns.mean() / buy_hold_returns.std()) * (252**0.5)\n",
    "print(\"Sharpe Ratio (buy & hold):\", round(sharpe_bh, 3))\n"
   ]
  },
  {
   "cell_type": "code",
   "execution_count": null,
   "id": "9528e300-360f-407a-b67d-b7b8d4429008",
   "metadata": {},
   "outputs": [],
   "source": []
  }
 ],
 "metadata": {
  "kernelspec": {
   "display_name": "Python 3 (ipykernel)",
   "language": "python",
   "name": "python3"
  },
  "language_info": {
   "codemirror_mode": {
    "name": "ipython",
    "version": 3
   },
   "file_extension": ".py",
   "mimetype": "text/x-python",
   "name": "python",
   "nbconvert_exporter": "python",
   "pygments_lexer": "ipython3",
   "version": "3.12.4"
  }
 },
 "nbformat": 4,
 "nbformat_minor": 5
}
